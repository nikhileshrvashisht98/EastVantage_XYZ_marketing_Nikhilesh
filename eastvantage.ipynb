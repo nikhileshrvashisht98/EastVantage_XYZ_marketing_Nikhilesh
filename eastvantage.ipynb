{
 "cells": [
  {
   "cell_type": "code",
   "execution_count": 1,
   "id": "9cc7810a-56b1-409f-8614-e32e54dfeb18",
   "metadata": {},
   "outputs": [],
   "source": [
    "import pandas as pd\n",
    "import sqlite3"
   ]
  },
  {
   "cell_type": "code",
   "execution_count": null,
   "id": "a9773150-7699-477d-9449-ba2cb5f28d09",
   "metadata": {},
   "outputs": [],
   "source": [
    "conn = sqlite3.connect(\"XYZ_marketing.db\")"
   ]
  },
  {
   "cell_type": "code",
   "execution_count": null,
   "id": "c66844ba-9a26-4081-ac01-07cc67f71d25",
   "metadata": {},
   "outputs": [],
   "source": [
    "customers = pd.read_sql_query(\"SELECT * FROM customers WHERE age BETWEEN 18 AND 35\", conn)\n",
    "sales = pd.read_sql_query(\"SELECT * FROM sales\", conn)\n",
    "sales_items = pd.read_sql_query(\"SELECT * FROM sales_items\", conn)"
   ]
  },
  {
   "cell_type": "code",
   "execution_count": null,
   "id": "9c002cb5-7bd0-4626-94ae-e4a6de65f5a0",
   "metadata": {},
   "outputs": [],
   "source": [
    "df = sales_items.merge(sales, on=\"sales_id\").merge(customers, on=\"customer_id\")"
   ]
  },
  {
   "cell_type": "code",
   "execution_count": null,
   "id": "3a9bdd85-94d4-4f41-a442-a7e963e5daf6",
   "metadata": {},
   "outputs": [],
   "source": [
    "df_filtered = df[df[\"quantity\"] > 0]\n",
    "# df_filtered.pivot_table(index=\"customer_id\", columns=\"item_name\", values=\"quantity\", aggfunc=\"sum\", fill_value=0).astype(int)\n",
    "\n",
    "df_grouped = df_filtered.groupby([\"customer_id\", \"item_name\"])[\"quantity\"].sum().unstack(fill_value=0).astype(int)"
   ]
  },
  {
   "cell_type": "code",
   "execution_count": null,
   "id": "8128020b-b80a-43bf-b652-4d52ad34e98b",
   "metadata": {},
   "outputs": [],
   "source": [
    "df_grouped.to_csv(\"XYZ_marketing_1.csv\", sep=\";\")\n",
    "conn.close()"
   ]
  }
 ],
 "metadata": {
  "kernelspec": {
   "display_name": "Python 3 (ipykernel)",
   "language": "python",
   "name": "python3"
  },
  "language_info": {
   "codemirror_mode": {
    "name": "ipython",
    "version": 3
   },
   "file_extension": ".py",
   "mimetype": "text/x-python",
   "name": "python",
   "nbconvert_exporter": "python",
   "pygments_lexer": "ipython3",
   "version": "3.9.7"
  }
 },
 "nbformat": 4,
 "nbformat_minor": 5
}
